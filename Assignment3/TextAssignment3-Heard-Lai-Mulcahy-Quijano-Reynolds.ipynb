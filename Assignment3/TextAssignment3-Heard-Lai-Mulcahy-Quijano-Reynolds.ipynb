{
 "cells": [
  {
   "cell_type": "markdown",
   "metadata": {},
   "source": [
    "## Assignment 3\n",
    "### Group Members: Yannick Heard, Timothy Lai, Christine Mulcahy, Daniel Quijano, Elena Reynolds"
   ]
  },
  {
   "cell_type": "code",
   "execution_count": 40,
   "metadata": {},
   "outputs": [
    {
     "data": {
      "text/html": [
       "<div>\n",
       "<style>\n",
       "    .dataframe thead tr:only-child th {\n",
       "        text-align: right;\n",
       "    }\n",
       "\n",
       "    .dataframe thead th {\n",
       "        text-align: left;\n",
       "    }\n",
       "\n",
       "    .dataframe tbody tr th {\n",
       "        vertical-align: top;\n",
       "    }\n",
       "</style>\n",
       "<table border=\"1\" class=\"dataframe\">\n",
       "  <thead>\n",
       "    <tr style=\"text-align: right;\">\n",
       "      <th></th>\n",
       "      <th>ES</th>\n",
       "      <th>LS</th>\n",
       "      <th>RX</th>\n",
       "      <th>A8</th>\n",
       "      <th>A6</th>\n",
       "      <th>3series</th>\n",
       "      <th>5series</th>\n",
       "      <th>7series</th>\n",
       "      <th>XJ</th>\n",
       "      <th>Sclass</th>\n",
       "    </tr>\n",
       "  </thead>\n",
       "  <tbody>\n",
       "    <tr>\n",
       "      <th>0</th>\n",
       "      <td>NaN</td>\n",
       "      <td>NaN</td>\n",
       "      <td>4.0</td>\n",
       "      <td>3.0</td>\n",
       "      <td>NaN</td>\n",
       "      <td>NaN</td>\n",
       "      <td>NaN</td>\n",
       "      <td>5.0</td>\n",
       "      <td>2.0</td>\n",
       "      <td>1.0</td>\n",
       "    </tr>\n",
       "    <tr>\n",
       "      <th>1</th>\n",
       "      <td>NaN</td>\n",
       "      <td>NaN</td>\n",
       "      <td>3.0</td>\n",
       "      <td>2.0</td>\n",
       "      <td>2.0</td>\n",
       "      <td>2.0</td>\n",
       "      <td>2.0</td>\n",
       "      <td>2.0</td>\n",
       "      <td>NaN</td>\n",
       "      <td>NaN</td>\n",
       "    </tr>\n",
       "    <tr>\n",
       "      <th>2</th>\n",
       "      <td>NaN</td>\n",
       "      <td>4.0</td>\n",
       "      <td>NaN</td>\n",
       "      <td>NaN</td>\n",
       "      <td>NaN</td>\n",
       "      <td>3.0</td>\n",
       "      <td>NaN</td>\n",
       "      <td>3.0</td>\n",
       "      <td>NaN</td>\n",
       "      <td>3.0</td>\n",
       "    </tr>\n",
       "    <tr>\n",
       "      <th>3</th>\n",
       "      <td>NaN</td>\n",
       "      <td>2.0</td>\n",
       "      <td>NaN</td>\n",
       "      <td>2.0</td>\n",
       "      <td>NaN</td>\n",
       "      <td>NaN</td>\n",
       "      <td>NaN</td>\n",
       "      <td>2.0</td>\n",
       "      <td>4.0</td>\n",
       "      <td>2.0</td>\n",
       "    </tr>\n",
       "    <tr>\n",
       "      <th>4</th>\n",
       "      <td>NaN</td>\n",
       "      <td>3.0</td>\n",
       "      <td>3.0</td>\n",
       "      <td>NaN</td>\n",
       "      <td>NaN</td>\n",
       "      <td>NaN</td>\n",
       "      <td>2.0</td>\n",
       "      <td>NaN</td>\n",
       "      <td>NaN</td>\n",
       "      <td>3.0</td>\n",
       "    </tr>\n",
       "  </tbody>\n",
       "</table>\n",
       "</div>"
      ],
      "text/plain": [
       "   ES   LS   RX   A8   A6  3series  5series  7series   XJ  Sclass\n",
       "0 NaN  NaN  4.0  3.0  NaN      NaN      NaN      5.0  2.0     1.0\n",
       "1 NaN  NaN  3.0  2.0  2.0      2.0      2.0      2.0  NaN     NaN\n",
       "2 NaN  4.0  NaN  NaN  NaN      3.0      NaN      3.0  NaN     3.0\n",
       "3 NaN  2.0  NaN  2.0  NaN      NaN      NaN      2.0  4.0     2.0\n",
       "4 NaN  3.0  3.0  NaN  NaN      NaN      2.0      NaN  NaN     3.0"
      ]
     },
     "execution_count": 40,
     "metadata": {},
     "output_type": "execute_result"
    }
   ],
   "source": [
    "import pandas as pd\n",
    "import networkx as nx\n",
    "import numpy as np\n",
    "import matplotlib.pyplot as plt\n",
    "import math\n",
    "\n",
    "scores = pd.read_csv('Assignment 3 Sentiment Scores.csv')\n",
    "scores.head()"
   ]
  },
  {
   "cell_type": "code",
   "execution_count": 2,
   "metadata": {},
   "outputs": [
    {
     "data": {
      "text/plain": [
       "['ES', 'LS', 'RX', 'A8', 'A6', '3series', '5series', '7series', 'XJ', 'Sclass']"
      ]
     },
     "execution_count": 2,
     "metadata": {},
     "output_type": "execute_result"
    }
   ],
   "source": [
    "models = scores.columns.tolist()\n",
    "models"
   ]
  },
  {
   "cell_type": "code",
   "execution_count": 3,
   "metadata": {},
   "outputs": [
    {
     "data": {
      "text/plain": [
       "[['ES', 'LS', 0.30434782608695654],\n",
       " ['LS', 'ES', 2.0],\n",
       " ['ES', 'RX', 0.83333333333333337],\n",
       " ['RX', 'ES', 2.0],\n",
       " ['ES', 'A8', 2.8333333333333335],\n",
       " ['A8', 'ES', 3.0],\n",
       " ['ES', 'A6', 6.0],\n",
       " ['A6', 'ES', 1.6666666666666667],\n",
       " ['ES', '3series', 3.25],\n",
       " ['3series', 'ES', 6.0],\n",
       " ['ES', '5series', 4.0],\n",
       " ['5series', 'ES', 5.0],\n",
       " ['ES', '7series', 3.0],\n",
       " ['7series', 'ES', 2.7999999999999998],\n",
       " ['ES', 'XJ', 0.5],\n",
       " ['XJ', 'ES', 1.0],\n",
       " ['ES', 'Sclass', 3.2857142857142856],\n",
       " ['Sclass', 'ES', 2.6153846153846154],\n",
       " ['LS', 'RX', 1.0],\n",
       " ['RX', 'LS', 1.1428571428571428],\n",
       " ['LS', 'A8', 2.3529411764705883],\n",
       " ['A8', 'LS', 2.8378378378378377],\n",
       " ['LS', 'A6', 2.7272727272727271],\n",
       " ['A6', 'LS', 1.2857142857142858],\n",
       " ['LS', '3series', 2.3333333333333335],\n",
       " ['3series', 'LS', 4.0],\n",
       " ['LS', '5series', 2.4545454545454546],\n",
       " ['5series', 'LS', 3.1000000000000001],\n",
       " ['LS', '7series', 2.1142857142857143],\n",
       " ['7series', 'LS', 2.75],\n",
       " ['LS', 'XJ', 2.0],\n",
       " ['XJ', 'LS', 2.8888888888888888],\n",
       " ['LS', 'Sclass', 2.1477272727272729],\n",
       " ['Sclass', 'LS', 2.6774193548387095],\n",
       " ['RX', 'A8', 2.2000000000000002],\n",
       " ['A8', 'RX', 1.0],\n",
       " ['RX', 'A6', 3.6666666666666665],\n",
       " ['RX', '3series', 4.0],\n",
       " ['3series', 'RX', 4.0],\n",
       " ['RX', '5series', 3.6000000000000001],\n",
       " ['RX', '7series', 3.75],\n",
       " ['7series', 'RX', 1.0],\n",
       " ['RX', 'XJ', 2.0],\n",
       " ['RX', 'Sclass', 2.8571428571428572],\n",
       " ['Sclass', 'RX', 2.5],\n",
       " ['A8', 'A6', 0.61111111111111116],\n",
       " ['A6', 'A8', 3.1666666666666665],\n",
       " ['A8', '3series', 2.1666666666666665],\n",
       " ['3series', 'A8', 5.0],\n",
       " ['A8', '5series', 2.0],\n",
       " ['5series', 'A8', 5.0],\n",
       " ['A8', '7series', 0.72727272727272729],\n",
       " ['7series', 'A8', 3.0],\n",
       " ['A8', 'XJ', 0.54545454545454541],\n",
       " ['XJ', 'A8', 2.1428571428571428],\n",
       " ['A8', 'Sclass', 1.0975609756097562],\n",
       " ['Sclass', 'A8', 2.0625],\n",
       " ['A6', '3series', 1.0],\n",
       " ['3series', 'A6', 5.0],\n",
       " ['A6', '5series', 1.0],\n",
       " ['5series', 'A6', 5.0],\n",
       " ['A6', '7series', 0.0],\n",
       " ['7series', 'A6', 5.0],\n",
       " ['A6', 'XJ', 1.0],\n",
       " ['A6', 'Sclass', 0.66666666666666663],\n",
       " ['Sclass', 'A6', 2.3333333333333335],\n",
       " ['3series', '5series', 0.0],\n",
       " ['3series', '7series', 0.625],\n",
       " ['7series', '3series', 2.0],\n",
       " ['XJ', '3series', 3.0],\n",
       " ['3series', 'Sclass', 2.6000000000000001],\n",
       " ['Sclass', '3series', 3.3333333333333335],\n",
       " ['5series', '7series', 0.77777777777777779],\n",
       " ['7series', '5series', 1.0],\n",
       " ['XJ', '5series', 2.0],\n",
       " ['5series', 'Sclass', 0.75],\n",
       " ['Sclass', '5series', 2.0],\n",
       " ['7series', 'XJ', 1.375],\n",
       " ['XJ', '7series', 3.1666666666666665],\n",
       " ['7series', 'Sclass', 0.93333333333333335],\n",
       " ['Sclass', '7series', 2.4375],\n",
       " ['XJ', 'Sclass', 1.1111111111111112],\n",
       " ['Sclass', 'XJ', 2.2857142857142856]]"
      ]
     },
     "execution_count": 3,
     "metadata": {},
     "output_type": "execute_result"
    }
   ],
   "source": [
    "edge_list = []\n",
    "\n",
    "def get_edges():\n",
    "    for model1 in models:\n",
    "        for model2 in models[models.index(model1)+1:]:\n",
    "            pos_sent = []\n",
    "            neg_sent = []\n",
    "            for i in range(0,len(scores)):\n",
    "                sent_model1 = scores[model1][i]\n",
    "                sent_model2 = scores[model2][i]\n",
    "                if (not(np.isnan(sent_model1)) & (not(np.isnan(sent_model2)))):\n",
    "                    edge_weight = sent_model1 - sent_model2\n",
    "                    if edge_weight >= 0:\n",
    "                        pos_sent.append(edge_weight)\n",
    "                    elif edge_weight < 0:\n",
    "                        neg_sent.append(edge_weight)\n",
    "            if len(pos_sent) > 0:\n",
    "                edge_list.append([model1, model2, np.mean(pos_sent)])\n",
    "            if len(neg_sent) > 0:\n",
    "                edge_list.append([model2, model1, abs(np.mean(neg_sent))])\n",
    "    return edge_list\n",
    "\n",
    "get_edges()"
   ]
  },
  {
   "cell_type": "code",
   "execution_count": 26,
   "metadata": {},
   "outputs": [
    {
     "data": {
      "image/png": "[encoded data removed]",
      "text/plain": [
       "<matplotlib.figure.Figure at 0x10b9eb290>"
      ]
     },
     "metadata": {},
     "output_type": "display_data"
    }
   ],
   "source": [
    "G = nx.DiGraph()\n",
    "G.add_weighted_edges_from(edge_list)\n",
    "\n",
    "plt.figure(figsize=(10,10))\n",
    "pos = nx.spring_layout(G)\n",
    "nx.draw_networkx_nodes(G, pos, nodesize=20)\n",
    "nx.draw_networkx_labels(G, pos)\n",
    "nx.draw_networkx_edges(G, pos, edge_color = 'b', arrows=True)\n",
    "plt.axis('off')\n",
    "plt.show()"
   ]
  },
  {
   "cell_type": "markdown",
   "metadata": {},
   "source": [
    "### Part (b)"
   ]
  },
  {
   "cell_type": "code",
   "execution_count": 27,
   "metadata": {},
   "outputs": [
    {
     "data": {
      "text/plain": [
       "{'3series': 0.09315393834610573,\n",
       " '5series': 0.10468175461478667,\n",
       " '7series': 0.10986869703854982,\n",
       " 'A6': 0.0982533295721719,\n",
       " 'A8': 0.10986869703854985,\n",
       " 'ES': 0.10986869703854983,\n",
       " 'LS': 0.10986869703854982,\n",
       " 'RX': 0.07295573223238781,\n",
       " 'Sclass': 0.10986869703854982,\n",
       " 'XJ': 0.08161176004179858}"
      ]
     },
     "execution_count": 27,
     "metadata": {},
     "output_type": "execute_result"
    }
   ],
   "source": [
    "page_rank_unweighted = nx.pagerank(G, alpha = 0.99, weight = 1)\n",
    "page_rank_unweighted"
   ]
  },
  {
   "cell_type": "code",
   "execution_count": 36,
   "metadata": {},
   "outputs": [
    {
     "data": {
      "text/plain": [
       "{'3series': 0.10735667075588687,\n",
       " '5series': 0.098209925633999079,\n",
       " '7series': 0.071673100210594323,\n",
       " 'A6': 0.13625204213015285,\n",
       " 'A8': 0.14893030745926053,\n",
       " 'ES': 0.14212528644935021,\n",
       " 'LS': 0.11277502731113064,\n",
       " 'RX': 0.050368637316756081,\n",
       " 'Sclass': 0.080150282429632375,\n",
       " 'XJ': 0.052158720303237205}"
      ]
     },
     "execution_count": 36,
     "metadata": {},
     "output_type": "execute_result"
    }
   ],
   "source": [
    "page_rank_weighted = nx.pagerank(G, alpha = 0.99)\n",
    "page_rank_weighted"
   ]
  },
  {
   "cell_type": "code",
   "execution_count": 50,
   "metadata": {
    "scrolled": true
   },
   "outputs": [
    {
     "data": {
      "text/html": [
       "<div>\n",
       "<style>\n",
       "    .dataframe thead tr:only-child th {\n",
       "        text-align: right;\n",
       "    }\n",
       "\n",
       "    .dataframe thead th {\n",
       "        text-align: left;\n",
       "    }\n",
       "\n",
       "    .dataframe tbody tr th {\n",
       "        vertical-align: top;\n",
       "    }\n",
       "</style>\n",
       "<table border=\"1\" class=\"dataframe\">\n",
       "  <thead>\n",
       "    <tr style=\"text-align: right;\">\n",
       "      <th></th>\n",
       "      <th>Page Rank Unweighted</th>\n",
       "      <th>Page Rank Weighted</th>\n",
       "      <th>Sales</th>\n",
       "    </tr>\n",
       "  </thead>\n",
       "  <tbody>\n",
       "    <tr>\n",
       "      <th>3series</th>\n",
       "      <td>0.093154</td>\n",
       "      <td>0.107357</td>\n",
       "      <td>220000</td>\n",
       "    </tr>\n",
       "    <tr>\n",
       "      <th>ES</th>\n",
       "      <td>0.109869</td>\n",
       "      <td>0.142125</td>\n",
       "      <td>135000</td>\n",
       "    </tr>\n",
       "    <tr>\n",
       "      <th>RX</th>\n",
       "      <td>0.072956</td>\n",
       "      <td>0.050369</td>\n",
       "      <td>120000</td>\n",
       "    </tr>\n",
       "    <tr>\n",
       "      <th>5series</th>\n",
       "      <td>0.104682</td>\n",
       "      <td>0.098210</td>\n",
       "      <td>60000</td>\n",
       "    </tr>\n",
       "    <tr>\n",
       "      <th>LS</th>\n",
       "      <td>0.109869</td>\n",
       "      <td>0.112775</td>\n",
       "      <td>30000</td>\n",
       "    </tr>\n",
       "    <tr>\n",
       "      <th>Sclass</th>\n",
       "      <td>0.109869</td>\n",
       "      <td>0.080150</td>\n",
       "      <td>25000</td>\n",
       "    </tr>\n",
       "    <tr>\n",
       "      <th>A6</th>\n",
       "      <td>0.098253</td>\n",
       "      <td>0.136252</td>\n",
       "      <td>20000</td>\n",
       "    </tr>\n",
       "    <tr>\n",
       "      <th>7series</th>\n",
       "      <td>0.109869</td>\n",
       "      <td>0.071673</td>\n",
       "      <td>14000</td>\n",
       "    </tr>\n",
       "    <tr>\n",
       "      <th>A8</th>\n",
       "      <td>0.109869</td>\n",
       "      <td>0.148930</td>\n",
       "      <td>12000</td>\n",
       "    </tr>\n",
       "    <tr>\n",
       "      <th>XJ</th>\n",
       "      <td>0.081612</td>\n",
       "      <td>0.052159</td>\n",
       "      <td>6600</td>\n",
       "    </tr>\n",
       "  </tbody>\n",
       "</table>\n",
       "</div>"
      ],
      "text/plain": [
       "         Page Rank Unweighted  Page Rank Weighted   Sales\n",
       "3series              0.093154            0.107357  220000\n",
       "ES                   0.109869            0.142125  135000\n",
       "RX                   0.072956            0.050369  120000\n",
       "5series              0.104682            0.098210   60000\n",
       "LS                   0.109869            0.112775   30000\n",
       "Sclass               0.109869            0.080150   25000\n",
       "A6                   0.098253            0.136252   20000\n",
       "7series              0.109869            0.071673   14000\n",
       "A8                   0.109869            0.148930   12000\n",
       "XJ                   0.081612            0.052159    6600"
      ]
     },
     "execution_count": 50,
     "metadata": {},
     "output_type": "execute_result"
    }
   ],
   "source": [
    "partb_df1 = pd.DataFrame.from_dict(page_rank_unweighted, orient = 'index')\n",
    "partb_df2 = pd.DataFrame.from_dict(page_rank_weighted, orient = 'index')\n",
    "partb_df1.columns = ['Page Rank Unweighted']\n",
    "partb_df2.columns = ['Page Rank Weighted']\n",
    "partb_df1 = partb_df1.sort_index()\n",
    "partb_df2 = partb_df2.sort_index()\n",
    "\n",
    "partb_df = pd.concat([partb_df1,partb_df2], axis=1)\n",
    "partb_df['Sales'] = [220000, 60000, 14000, 20000, 12000, 135000, 30000, 120000, 25000, 6600]\n",
    "partb_df.sort_values('Sales', ascending=False)"
   ]
  },
  {
   "cell_type": "code",
   "execution_count": 45,
   "metadata": {},
   "outputs": [
    {
     "data": {
      "text/plain": [
       "-0.28944274294681338"
      ]
     },
     "execution_count": 45,
     "metadata": {},
     "output_type": "execute_result"
    }
   ],
   "source": [
    "partb_df['Page Rank Unweighted'].corr(partb_df['Sales'])"
   ]
  },
  {
   "cell_type": "code",
   "execution_count": 46,
   "metadata": {},
   "outputs": [
    {
     "data": {
      "text/plain": [
       "0.074980268832453636"
      ]
     },
     "execution_count": 46,
     "metadata": {},
     "output_type": "execute_result"
    }
   ],
   "source": [
    "partb_df['Page Rank Weighted'].corr(partb_df['Sales'])"
   ]
  },
  {
   "cell_type": "markdown",
   "metadata": {},
   "source": [
    "### Part (c)"
   ]
  },
  {
   "cell_type": "code",
   "execution_count": 51,
   "metadata": {},
   "outputs": [
    {
     "data": {
      "text/plain": [
       "1308"
      ]
     },
     "execution_count": 51,
     "metadata": {},
     "output_type": "execute_result"
    }
   ],
   "source": [
    "ed = pd.read_excel('Edmunds Reviews.xlsx', sheetname = 0)\n",
    "ed = ed.append(pd.read_excel('Edmunds Reviews.xlsx', sheetname = 1))\n",
    "ed = ed.append(pd.read_excel('Edmunds Reviews.xlsx', sheetname = 2))\n",
    "ed = ed.append(pd.read_excel('Edmunds Reviews.xlsx', sheetname = 3))\n",
    "ed = ed.append(pd.read_excel('Edmunds Reviews.xlsx', sheetname = 4))\n",
    "ed = ed.append(pd.read_excel('Edmunds Reviews.xlsx', sheetname = 5))\n",
    "len(ed)"
   ]
  }
 ],
 "metadata": {
  "kernelspec": {
   "display_name": "Python 2",
   "language": "python",
   "name": "python2"
  },
  "language_info": {
   "codemirror_mode": {
    "name": "ipython",
    "version": 2
   },
   "file_extension": ".py",
   "mimetype": "text/x-python",
   "name": "python",
   "nbconvert_exporter": "python",
   "pygments_lexer": "ipython2",
   "version": "2.7.13"
  }
 },
 "nbformat": 4,
 "nbformat_minor": 2
}
